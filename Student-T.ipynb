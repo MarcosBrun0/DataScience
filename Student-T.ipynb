{
 "cells": [
  {
   "cell_type": "code",
   "execution_count": 29,
   "id": "74b81ed5-a138-4c03-8611-2790f147662a",
   "metadata": {},
   "outputs": [
    {
     "data": {
      "text/html": [
       "<div>\n",
       "<style scoped>\n",
       "    .dataframe tbody tr th:only-of-type {\n",
       "        vertical-align: middle;\n",
       "    }\n",
       "\n",
       "    .dataframe tbody tr th {\n",
       "        vertical-align: top;\n",
       "    }\n",
       "\n",
       "    .dataframe thead th {\n",
       "        text-align: right;\n",
       "    }\n",
       "</style>\n",
       "<table border=\"1\" class=\"dataframe\">\n",
       "  <thead>\n",
       "    <tr style=\"text-align: right;\">\n",
       "      <th></th>\n",
       "      <th>Unnamed: 0</th>\n",
       "      <th>Confidence intervals, t-score</th>\n",
       "      <th>Unnamed: 2</th>\n",
       "    </tr>\n",
       "  </thead>\n",
       "  <tbody>\n",
       "    <tr>\n",
       "      <th>0</th>\n",
       "      <td>NaN</td>\n",
       "      <td>NaN</td>\n",
       "      <td>NaN</td>\n",
       "    </tr>\n",
       "    <tr>\n",
       "      <th>1</th>\n",
       "      <td>NaN</td>\n",
       "      <td>Background</td>\n",
       "      <td>You are given the dataset from the lesson</td>\n",
       "    </tr>\n",
       "    <tr>\n",
       "      <th>2</th>\n",
       "      <td>NaN</td>\n",
       "      <td>Task 1</td>\n",
       "      <td>Calculate the mean and the standard error of the dataset</td>\n",
       "    </tr>\n",
       "    <tr>\n",
       "      <th>3</th>\n",
       "      <td>NaN</td>\n",
       "      <td>Task 2</td>\n",
       "      <td>Determine which statistic to use for inference</td>\n",
       "    </tr>\n",
       "    <tr>\n",
       "      <th>4</th>\n",
       "      <td>NaN</td>\n",
       "      <td>Task 3</td>\n",
       "      <td>Find the appropriate statistic, taking into consideration the degrees of freedom (if applicable) for 99% confidence</td>\n",
       "    </tr>\n",
       "    <tr>\n",
       "      <th>5</th>\n",
       "      <td>NaN</td>\n",
       "      <td>Task 4</td>\n",
       "      <td>Find the 99% confidence interval</td>\n",
       "    </tr>\n",
       "    <tr>\n",
       "      <th>6</th>\n",
       "      <td>NaN</td>\n",
       "      <td>NaN</td>\n",
       "      <td>NaN</td>\n",
       "    </tr>\n",
       "    <tr>\n",
       "      <th>7</th>\n",
       "      <td>NaN</td>\n",
       "      <td>Dataset</td>\n",
       "      <td>NaN</td>\n",
       "    </tr>\n",
       "    <tr>\n",
       "      <th>8</th>\n",
       "      <td>NaN</td>\n",
       "      <td>78000</td>\n",
       "      <td>NaN</td>\n",
       "    </tr>\n",
       "    <tr>\n",
       "      <th>9</th>\n",
       "      <td>NaN</td>\n",
       "      <td>90000</td>\n",
       "      <td>NaN</td>\n",
       "    </tr>\n",
       "    <tr>\n",
       "      <th>10</th>\n",
       "      <td>NaN</td>\n",
       "      <td>75000</td>\n",
       "      <td>NaN</td>\n",
       "    </tr>\n",
       "    <tr>\n",
       "      <th>11</th>\n",
       "      <td>NaN</td>\n",
       "      <td>117000</td>\n",
       "      <td>NaN</td>\n",
       "    </tr>\n",
       "    <tr>\n",
       "      <th>12</th>\n",
       "      <td>NaN</td>\n",
       "      <td>105000</td>\n",
       "      <td>NaN</td>\n",
       "    </tr>\n",
       "    <tr>\n",
       "      <th>13</th>\n",
       "      <td>NaN</td>\n",
       "      <td>96000</td>\n",
       "      <td>NaN</td>\n",
       "    </tr>\n",
       "    <tr>\n",
       "      <th>14</th>\n",
       "      <td>NaN</td>\n",
       "      <td>89500</td>\n",
       "      <td>NaN</td>\n",
       "    </tr>\n",
       "    <tr>\n",
       "      <th>15</th>\n",
       "      <td>NaN</td>\n",
       "      <td>102300</td>\n",
       "      <td>NaN</td>\n",
       "    </tr>\n",
       "    <tr>\n",
       "      <th>16</th>\n",
       "      <td>NaN</td>\n",
       "      <td>80000</td>\n",
       "      <td>NaN</td>\n",
       "    </tr>\n",
       "  </tbody>\n",
       "</table>\n",
       "</div>"
      ],
      "text/plain": [
       "    Unnamed: 0 Confidence intervals, t-score  \\\n",
       "0          NaN                           NaN   \n",
       "1          NaN                    Background   \n",
       "2          NaN                        Task 1   \n",
       "3          NaN                        Task 2   \n",
       "4          NaN                        Task 3   \n",
       "5          NaN                        Task 4   \n",
       "6          NaN                           NaN   \n",
       "7          NaN                       Dataset   \n",
       "8          NaN                         78000   \n",
       "9          NaN                         90000   \n",
       "10         NaN                         75000   \n",
       "11         NaN                        117000   \n",
       "12         NaN                        105000   \n",
       "13         NaN                         96000   \n",
       "14         NaN                         89500   \n",
       "15         NaN                        102300   \n",
       "16         NaN                         80000   \n",
       "\n",
       "                                                                                                             Unnamed: 2  \n",
       "0                                                                                                                   NaN  \n",
       "1                                                                             You are given the dataset from the lesson  \n",
       "2                                                              Calculate the mean and the standard error of the dataset  \n",
       "3                                                                        Determine which statistic to use for inference  \n",
       "4   Find the appropriate statistic, taking into consideration the degrees of freedom (if applicable) for 99% confidence  \n",
       "5                                                                                      Find the 99% confidence interval  \n",
       "6                                                                                                                   NaN  \n",
       "7                                                                                                                   NaN  \n",
       "8                                                                                                                   NaN  \n",
       "9                                                                                                                   NaN  \n",
       "10                                                                                                                  NaN  \n",
       "11                                                                                                                  NaN  \n",
       "12                                                                                                                  NaN  \n",
       "13                                                                                                                  NaN  \n",
       "14                                                                                                                  NaN  \n",
       "15                                                                                                                  NaN  \n",
       "16                                                                                                                  NaN  "
      ]
     },
     "execution_count": 29,
     "metadata": {},
     "output_type": "execute_result"
    }
   ],
   "source": [
    "import pandas as pd\n",
    "pd.set_option('display.max_colwidth', None)\n",
    "df = pd.read_excel(\"datasets/3.11.+Population+variance+unknown%2C+t-score_exercise.xlsx\")\n",
    "df"
   ]
  },
  {
   "cell_type": "code",
   "execution_count": 30,
   "id": "7b857446-d58d-4ee6-a2f4-ee7ab3bf512f",
   "metadata": {},
   "outputs": [
    {
     "data": {
      "text/plain": [
       "1                                                                              You are given the dataset from the lesson\n",
       "2                                                               Calculate the mean and the standard error of the dataset\n",
       "3                                                                         Determine which statistic to use for inference\n",
       "4    Find the appropriate statistic, taking into consideration the degrees of freedom (if applicable) for 99% confidence\n",
       "5                                                                                       Find the 99% confidence interval\n",
       "Name: Unnamed: 2, dtype: object"
      ]
     },
     "execution_count": 30,
     "metadata": {},
     "output_type": "execute_result"
    }
   ],
   "source": [
    "tasks = df.iloc[1:6,2]\n",
    "tasks"
   ]
  },
  {
   "cell_type": "code",
   "execution_count": 13,
   "id": "85dda90c-147e-4257-b753-6a48849e48fc",
   "metadata": {},
   "outputs": [
    {
     "data": {
      "text/plain": [
       "8      78000\n",
       "9      90000\n",
       "10     75000\n",
       "11    117000\n",
       "12    105000\n",
       "13     96000\n",
       "14     89500\n",
       "15    102300\n",
       "16     80000\n",
       "Name: Confidence intervals, t-score, dtype: object"
      ]
     },
     "execution_count": 13,
     "metadata": {},
     "output_type": "execute_result"
    }
   ],
   "source": [
    "dataset = df.iloc[8:17,1]\n",
    "dataset"
   ]
  },
  {
   "cell_type": "code",
   "execution_count": 31,
   "id": "6e50bb6f-6514-401e-97d3-43ea90d79e03",
   "metadata": {},
   "outputs": [
    {
     "data": {
      "text/plain": [
       "np.float64(92533.33333333333)"
      ]
     },
     "execution_count": 31,
     "metadata": {},
     "output_type": "execute_result"
    }
   ],
   "source": [
    "dataset.mean()"
   ]
  },
  {
   "cell_type": "code",
   "execution_count": 32,
   "id": "d45568cf-a107-43fd-9e0f-69469e16aaed",
   "metadata": {},
   "outputs": [
    {
     "data": {
      "text/plain": [
       "np.float64(4643.962627852306)"
      ]
     },
     "execution_count": 32,
     "metadata": {},
     "output_type": "execute_result"
    }
   ],
   "source": [
    "dataset.sem()"
   ]
  },
  {
   "cell_type": "code",
   "execution_count": null,
   "id": "d0a67d7b-b83f-4e02-a38c-ed2c94102bfc",
   "metadata": {},
   "outputs": [],
   "source": []
  }
 ],
 "metadata": {
  "kernelspec": {
   "display_name": "Python 3 (ipykernel)",
   "language": "python",
   "name": "python3"
  },
  "language_info": {
   "codemirror_mode": {
    "name": "ipython",
    "version": 3
   },
   "file_extension": ".py",
   "mimetype": "text/x-python",
   "name": "python",
   "nbconvert_exporter": "python",
   "pygments_lexer": "ipython3",
   "version": "3.11.4"
  }
 },
 "nbformat": 4,
 "nbformat_minor": 5
}
