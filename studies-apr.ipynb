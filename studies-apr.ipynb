{
 "cells": [
  {
   "cell_type": "code",
   "execution_count": 1,
   "id": "0c9b0a25-9613-42f8-ba2e-1c05b32b3318",
   "metadata": {
    "editable": true,
    "slideshow": {
     "slide_type": ""
    },
    "tags": []
   },
   "outputs": [
    {
     "data": {
      "text/html": [
       "<div>\n",
       "<style scoped>\n",
       "    .dataframe tbody tr th:only-of-type {\n",
       "        vertical-align: middle;\n",
       "    }\n",
       "\n",
       "    .dataframe tbody tr th {\n",
       "        vertical-align: top;\n",
       "    }\n",
       "\n",
       "    .dataframe thead th {\n",
       "        text-align: right;\n",
       "    }\n",
       "</style>\n",
       "<table border=\"1\" class=\"dataframe\">\n",
       "  <thead>\n",
       "    <tr style=\"text-align: right;\">\n",
       "      <th></th>\n",
       "      <th>Confidence intervals. Population known, z-score</th>\n",
       "      <th>Unnamed: 2</th>\n",
       "    </tr>\n",
       "  </thead>\n",
       "  <tbody>\n",
       "    <tr>\n",
       "      <th>2</th>\n",
       "      <td>Background</td>\n",
       "      <td>You are given the same dataset from the lesson. The population standard deviation is known to be $ 15,000.</td>\n",
       "    </tr>\n",
       "    <tr>\n",
       "      <th>3</th>\n",
       "      <td>Task 1</td>\n",
       "      <td>Calculate the mean and the standard error</td>\n",
       "    </tr>\n",
       "    <tr>\n",
       "      <th>4</th>\n",
       "      <td>Task 2</td>\n",
       "      <td>Find the appropriate z-score for calculating a 90% confidence interval</td>\n",
       "    </tr>\n",
       "    <tr>\n",
       "      <th>5</th>\n",
       "      <td>Task 3</td>\n",
       "      <td>Find the 90% confidence interval</td>\n",
       "    </tr>\n",
       "  </tbody>\n",
       "</table>\n",
       "</div>"
      ],
      "text/plain": [
       "  Confidence intervals. Population known, z-score  \\\n",
       "2                                      Background   \n",
       "3                                          Task 1   \n",
       "4                                          Task 2   \n",
       "5                                          Task 3   \n",
       "\n",
       "                                                                                                   Unnamed: 2  \n",
       "2  You are given the same dataset from the lesson. The population standard deviation is known to be $ 15,000.  \n",
       "3                                                                   Calculate the mean and the standard error  \n",
       "4                                      Find the appropriate z-score for calculating a 90% confidence interval  \n",
       "5                                                                            Find the 90% confidence interval  "
      ]
     },
     "execution_count": 1,
     "metadata": {},
     "output_type": "execute_result"
    }
   ],
   "source": [
    "import pandas as pd\n",
    "\n",
    "pd.set_option('display.max_colwidth', None)\n",
    "df = pd.read_excel(\"datasets/3.9.+Population+variance+known%2C+z-score_exercise.xlsx\")\n",
    "df.iloc[2:6, 1:3]"
   ]
  },
  {
   "cell_type": "code",
   "execution_count": 2,
   "id": "62cea61e-e878-47b7-8ed8-ad3de7ef4766",
   "metadata": {},
   "outputs": [
    {
     "data": {
      "text/html": [
       "<div>\n",
       "<style scoped>\n",
       "    .dataframe tbody tr th:only-of-type {\n",
       "        vertical-align: middle;\n",
       "    }\n",
       "\n",
       "    .dataframe tbody tr th {\n",
       "        vertical-align: top;\n",
       "    }\n",
       "\n",
       "    .dataframe thead th {\n",
       "        text-align: right;\n",
       "    }\n",
       "</style>\n",
       "<table border=\"1\" class=\"dataframe\">\n",
       "  <thead>\n",
       "    <tr style=\"text-align: right;\">\n",
       "      <th></th>\n",
       "      <th>Unnamed: 0</th>\n",
       "      <th>Confidence intervals. Population known, z-score</th>\n",
       "      <th>Unnamed: 2</th>\n",
       "    </tr>\n",
       "  </thead>\n",
       "  <tbody>\n",
       "    <tr>\n",
       "      <th>34</th>\n",
       "      <td>NaN</td>\n",
       "      <td>89344</td>\n",
       "      <td>NaN</td>\n",
       "    </tr>\n",
       "    <tr>\n",
       "      <th>35</th>\n",
       "      <td>NaN</td>\n",
       "      <td>114426</td>\n",
       "      <td>NaN</td>\n",
       "    </tr>\n",
       "    <tr>\n",
       "      <th>36</th>\n",
       "      <td>NaN</td>\n",
       "      <td>90410</td>\n",
       "      <td>NaN</td>\n",
       "    </tr>\n",
       "    <tr>\n",
       "      <th>37</th>\n",
       "      <td>NaN</td>\n",
       "      <td>95118</td>\n",
       "      <td>NaN</td>\n",
       "    </tr>\n",
       "    <tr>\n",
       "      <th>38</th>\n",
       "      <td>NaN</td>\n",
       "      <td>113382</td>\n",
       "      <td>NaN</td>\n",
       "    </tr>\n",
       "  </tbody>\n",
       "</table>\n",
       "</div>"
      ],
      "text/plain": [
       "    Unnamed: 0 Confidence intervals. Population known, z-score Unnamed: 2\n",
       "34         NaN                                           89344        NaN\n",
       "35         NaN                                          114426        NaN\n",
       "36         NaN                                           90410        NaN\n",
       "37         NaN                                           95118        NaN\n",
       "38         NaN                                          113382        NaN"
      ]
     },
     "execution_count": 2,
     "metadata": {},
     "output_type": "execute_result"
    }
   ],
   "source": [
    "\n",
    "df.tail()"
   ]
  },
  {
   "cell_type": "markdown",
   "id": "2a9e3cd9-73af-43a6-bc62-e856db62fadb",
   "metadata": {},
   "source": [
    "## Standard Deviation\n",
    "\n",
    "\n",
    "\n",
    "![](assets/formula.png)"
   ]
  },
  {
   "cell_type": "markdown",
   "id": "9cef3987-44c2-4ff7-b3f9-d891bb818a8c",
   "metadata": {},
   "source": [
    "## Calculate the Mean and the Standard error\n",
    "\n",
    "### Mean\n",
    "\n"
   ]
  },
  {
   "cell_type": "code",
   "execution_count": 3,
   "id": "62a63f23-6cba-42d4-8183-20645f534787",
   "metadata": {},
   "outputs": [
    {
     "data": {
      "text/plain": [
       "8     Dataset\n",
       "9      117313\n",
       "10     104002\n",
       "11     113038\n",
       "12     101936\n",
       "13      84560\n",
       "14     113136\n",
       "15      80740\n",
       "16     100536\n",
       "17     105052\n",
       "18      87201\n",
       "19      91986\n",
       "20      94868\n",
       "21      90745\n",
       "22     102848\n",
       "23      85927\n",
       "24     112276\n",
       "25     108637\n",
       "26      96818\n",
       "27      92307\n",
       "28     114564\n",
       "29     109714\n",
       "30     108833\n",
       "31     115295\n",
       "32      89279\n",
       "33      81720\n",
       "34      89344\n",
       "35     114426\n",
       "36      90410\n",
       "37      95118\n",
       "38     113382\n",
       "Name: Confidence intervals. Population known, z-score, dtype: object"
      ]
     },
     "execution_count": 3,
     "metadata": {},
     "output_type": "execute_result"
    }
   ],
   "source": [
    "df.iloc[8:,1]"
   ]
  },
  {
   "cell_type": "code",
   "execution_count": 15,
   "id": "2ea46251-51af-49ee-8bda-2f00c78e2ae0",
   "metadata": {},
   "outputs": [],
   "source": [
    "MeanOfSalaries = df.iloc[9:39,1].mean()"
   ]
  },
  {
   "cell_type": "markdown",
   "id": "53ccc41b-183e-4268-b26f-99fcccd874d3",
   "metadata": {},
   "source": [
    "- the mean approaches $100,000"
   ]
  },
  {
   "cell_type": "markdown",
   "id": "9c8f280c-eede-4db9-9d74-ad17660cec6e",
   "metadata": {},
   "source": [
    "## Standard Error\n",
    "\n",
    "![](assets/standarderrorformula.png)\n",
    "\n",
    "$\\sigma$ = 15,000\n",
    "n = 30\n",
    "\n",
    "$15,000/\\sqrt{30} = $\n",
    "\n",
    "2.738\n"
   ]
  },
  {
   "cell_type": "code",
   "execution_count": 5,
   "id": "e03885b2-b9cc-4da1-99c8-7a35420ec571",
   "metadata": {},
   "outputs": [
    {
     "name": "stdout",
     "output_type": "stream",
     "text": [
      "2738.6127875258308\n"
     ]
    }
   ],
   "source": [
    "import math\n",
    "std:float = 15000\n",
    "n = df.iloc[9:39,1].count()\n",
    "standard_error = std/math.sqrt(n)\n",
    "print(standard_error)"
   ]
  },
  {
   "cell_type": "markdown",
   "id": "be530542-1be4-45cc-9d1e-f9aeccb3c752",
   "metadata": {},
   "source": [
    "## The appropriate z-score for 90% confidence interval"
   ]
  },
  {
   "cell_type": "markdown",
   "id": "f6c7b58b-fc39-44f8-b26f-e97a2bec409e",
   "metadata": {},
   "source": [
    "\n",
    "Formula for Confidence Interaval\n",
    "\n",
    "\n",
    "![](assets/ConfidenceInvervalFormula.png)\n"
   ]
  },
  {
   "cell_type": "code",
   "execution_count": 16,
   "id": "09263716-5fdd-413a-ba5c-70afd2e4a8f8",
   "metadata": {},
   "outputs": [
    {
     "name": "stdout",
     "output_type": "stream",
     "text": [
      "95695.34863118667 104705.38470214666\n"
     ]
    }
   ],
   "source": [
    "Z_SCORE90 = 1.645\n",
    "ConfIntervalUP= MeanOfSalaries + Z_SCORE90*standard_error\n",
    "ConfIntervalDown = MeanOfDf - Z_SCORE90*standard_error\n",
    "print(ConfIntervalDown,ConfIntervalUP)"
   ]
  },
  {
   "cell_type": "code",
   "execution_count": 24,
   "id": "c35726e6-8280-42cf-8bdb-0541674a0c15",
   "metadata": {},
   "outputs": [
    {
     "data": {
      "image/png": "[encoded data removed]",
      "text/plain": [
       "<Figure size 1000x500 with 1 Axes>"
      ]
     },
     "metadata": {},
     "output_type": "display_data"
    }
   ],
   "source": [
    "import matplotlib.pyplot as plt\n",
    "import numpy as np\n",
    "\n",
    "salaries = df.iloc[9:39,1]\n",
    "mean_salary = salaries.mean()\n",
    "x = np.arange(1, len(salaries) + 1)\n",
    "\n",
    "plt.figure(figsize=(10, 5))\n",
    "plt.plot(x, salaries, 'o', label='Salaries', color='blue')\n",
    "plt.axhline(mean_salary, color='green', linestyle='--', label=f'Mean: ${mean_salary:.2f}')\n",
    "plt.fill_between(x, ConfIntervalDown, ConfIntervalUP, color='orange', alpha=0.3, label='Confidence Interval')\n",
    "\n",
    "plt.title('Salary Data with Confidence Interval')\n",
    "plt.xlabel('Sample Index')\n",
    "plt.ylabel('Salary')\n",
    "plt.legend()\n",
    "plt.grid(True)\n",
    "plt.tight_layout()\n",
    "plt.show()"
   ]
  },
  {
   "cell_type": "code",
   "execution_count": null,
   "id": "28ae7a4a-c0db-4350-86a8-bf0596217656",
   "metadata": {},
   "outputs": [],
   "source": []
  }
 ],
 "metadata": {
  "kernelspec": {
   "display_name": "Python 3 (ipykernel)",
   "language": "python",
   "name": "python3"
  },
  "language_info": {
   "codemirror_mode": {
    "name": "ipython",
    "version": 3
   },
   "file_extension": ".py",
   "mimetype": "text/x-python",
   "name": "python",
   "nbconvert_exporter": "python",
   "pygments_lexer": "ipython3",
   "version": "3.11.4"
  }
 },
 "nbformat": 4,
 "nbformat_minor": 5
}
